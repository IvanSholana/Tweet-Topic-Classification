{
 "cells": [
  {
   "cell_type": "code",
   "execution_count": 1,
   "metadata": {},
   "outputs": [
    {
     "name": "stderr",
     "output_type": "stream",
     "text": [
      "c:\\Users\\Asus\\anaconda3\\envs\\BDC2024\\lib\\site-packages\\tqdm\\auto.py:21: TqdmWarning: IProgress not found. Please update jupyter and ipywidgets. See https://ipywidgets.readthedocs.io/en/stable/user_install.html\n",
      "  from .autonotebook import tqdm as notebook_tqdm\n"
     ]
    }
   ],
   "source": [
    "import torch\n",
    "from torch.utils.data import Dataset\n",
    "from transformers import AutoTokenizer, AutoModelForSequenceClassification, TrainingArguments, Trainer\n",
    "from sklearn.model_selection import train_test_split\n",
    "import numpy as np\n",
    "from datasets import load_metric\n",
    "# from imblearn.over_sampling import RandomOverSampler\n",
    "import pandas as pd\n",
    "from sklearn.metrics import balanced_accuracy_score"
   ]
  },
  {
   "cell_type": "code",
   "execution_count": 2,
   "metadata": {},
   "outputs": [],
   "source": [
    "dataset = pd.read_csv(\"./dataset/processed dataset/DatasetTrainAllVersion.csv\")\n",
    "\n",
    "dataset.drop_duplicates(inplace=True)"
   ]
  },
  {
   "cell_type": "code",
   "execution_count": 3,
   "metadata": {},
   "outputs": [
    {
     "data": {
      "text/html": [
       "<div>\n",
       "<style scoped>\n",
       "    .dataframe tbody tr th:only-of-type {\n",
       "        vertical-align: middle;\n",
       "    }\n",
       "\n",
       "    .dataframe tbody tr th {\n",
       "        vertical-align: top;\n",
       "    }\n",
       "\n",
       "    .dataframe thead th {\n",
       "        text-align: right;\n",
       "    }\n",
       "</style>\n",
       "<table border=\"1\" class=\"dataframe\">\n",
       "  <thead>\n",
       "    <tr style=\"text-align: right;\">\n",
       "      <th></th>\n",
       "      <th>text</th>\n",
       "      <th>label</th>\n",
       "    </tr>\n",
       "  </thead>\n",
       "  <tbody>\n",
       "    <tr>\n",
       "      <th>0</th>\n",
       "      <td>kunjungan prabowo ini untuk meresmikan dan men...</td>\n",
       "      <td>Sumber Daya Alam</td>\n",
       "    </tr>\n",
       "    <tr>\n",
       "      <th>1</th>\n",
       "      <td>rt anies dapat tepuk tangan meriah saat jadi r...</td>\n",
       "      <td>Politik</td>\n",
       "    </tr>\n",
       "    <tr>\n",
       "      <th>2</th>\n",
       "      <td>@ciqxqwgat04tmtx4ocatxjovq7vv/y8heyaiogmfg8y= ...</td>\n",
       "      <td>Demografi</td>\n",
       "    </tr>\n",
       "    <tr>\n",
       "      <th>3</th>\n",
       "      <td>rt @l3r8xfbw3wgbxrpsj0/0hhztbqvgx7qtfwrg9zmhk7...</td>\n",
       "      <td>Politik</td>\n",
       "    </tr>\n",
       "    <tr>\n",
       "      <th>4</th>\n",
       "      <td>anies baswedan harap asn termasuk tni dan polr...</td>\n",
       "      <td>Politik</td>\n",
       "    </tr>\n",
       "    <tr>\n",
       "      <th>...</th>\n",
       "      <td>...</td>\n",
       "      <td>...</td>\n",
       "    </tr>\n",
       "    <tr>\n",
       "      <th>54722</th>\n",
       "      <td>pengundulan hutan di indonesia sat ini menurut...</td>\n",
       "      <td>Sumber Daya Alam</td>\n",
       "    </tr>\n",
       "    <tr>\n",
       "      <th>54723</th>\n",
       "      <td>menurut mahfud md calon wakil presiden nomor u...</td>\n",
       "      <td>Sumber Daya Alam</td>\n",
       "    </tr>\n",
       "    <tr>\n",
       "      <th>54724</th>\n",
       "      <td>menurut calon wakil presiden nomor urut mahfud...</td>\n",
       "      <td>Sumber Daya Alam</td>\n",
       "    </tr>\n",
       "    <tr>\n",
       "      <th>54725</th>\n",
       "      <td>calon wakil presiden nomor urut mahfud md meng...</td>\n",
       "      <td>Sumber Daya Alam</td>\n",
       "    </tr>\n",
       "    <tr>\n",
       "      <th>54726</th>\n",
       "      <td>mahfud md calon wakil presiden nomor urut mene...</td>\n",
       "      <td>Sumber Daya Alam</td>\n",
       "    </tr>\n",
       "  </tbody>\n",
       "</table>\n",
       "<p>54727 rows × 2 columns</p>\n",
       "</div>"
      ],
      "text/plain": [
       "                                                    text             label\n",
       "0      kunjungan prabowo ini untuk meresmikan dan men...  Sumber Daya Alam\n",
       "1      rt anies dapat tepuk tangan meriah saat jadi r...           Politik\n",
       "2      @ciqxqwgat04tmtx4ocatxjovq7vv/y8heyaiogmfg8y= ...         Demografi\n",
       "3      rt @l3r8xfbw3wgbxrpsj0/0hhztbqvgx7qtfwrg9zmhk7...           Politik\n",
       "4      anies baswedan harap asn termasuk tni dan polr...           Politik\n",
       "...                                                  ...               ...\n",
       "54722  pengundulan hutan di indonesia sat ini menurut...  Sumber Daya Alam\n",
       "54723  menurut mahfud md calon wakil presiden nomor u...  Sumber Daya Alam\n",
       "54724  menurut calon wakil presiden nomor urut mahfud...  Sumber Daya Alam\n",
       "54725  calon wakil presiden nomor urut mahfud md meng...  Sumber Daya Alam\n",
       "54726  mahfud md calon wakil presiden nomor urut mene...  Sumber Daya Alam\n",
       "\n",
       "[54727 rows x 2 columns]"
      ]
     },
     "execution_count": 3,
     "metadata": {},
     "output_type": "execute_result"
    }
   ],
   "source": [
    "dataset"
   ]
  },
  {
   "cell_type": "code",
   "execution_count": 4,
   "metadata": {},
   "outputs": [],
   "source": [
    "from sklearn.preprocessing import LabelEncoder\n",
    "le = LabelEncoder()\n",
    "\n",
    "X = list(dataset['text'].astype(str))\n",
    "y = list(dataset['label'])\n",
    "\n",
    "y = le.fit_transform(y)"
   ]
  },
  {
   "cell_type": "code",
   "execution_count": 5,
   "metadata": {},
   "outputs": [],
   "source": [
    "from sklearn.model_selection import train_test_split\n",
    "\n",
    "# Memisahkan data menjadi train dan test set\n",
    "train_texts, eval_texts, train_labels, eval_labels = train_test_split(X, y, test_size=0.2, random_state=42)"
   ]
  },
  {
   "cell_type": "code",
   "execution_count": 6,
   "metadata": {},
   "outputs": [],
   "source": [
    "class CustomDataset(Dataset):\n",
    "    def __init__(self, texts, labels, tokenizer, max_length=512):\n",
    "        self.encodings = tokenizer(texts, truncation=True, padding=True, max_length=max_length)\n",
    "        self.labels = labels\n",
    "\n",
    "    def __getitem__(self, idx):\n",
    "        item = {key: torch.tensor(val[idx]) for key, val in self.encodings.items()}\n",
    "        item[\"labels\"] = torch.tensor(self.labels[idx])\n",
    "        return item\n",
    "\n",
    "    def __len__(self):\n",
    "        return len(self.labels)\n",
    "\n",
    "tokenizer = AutoTokenizer.from_pretrained('indolem/indobertweet-base-uncased')\n",
    "\n",
    "train_dataset = CustomDataset(train_texts, train_labels, tokenizer)\n",
    "eval_dataset = CustomDataset(eval_texts, eval_labels, tokenizer)"
   ]
  },
  {
   "cell_type": "code",
   "execution_count": 7,
   "metadata": {},
   "outputs": [
    {
     "name": "stderr",
     "output_type": "stream",
     "text": [
      "Some weights of BertForSequenceClassification were not initialized from the model checkpoint at indolem/indobertweet-base-uncased and are newly initialized: ['classifier.bias', 'classifier.weight']\n",
      "You should probably TRAIN this model on a down-stream task to be able to use it for predictions and inference.\n",
      "c:\\Users\\Asus\\anaconda3\\envs\\BDC2024\\lib\\site-packages\\transformers\\training_args.py:1474: FutureWarning: `evaluation_strategy` is deprecated and will be removed in version 4.46 of 🤗 Transformers. Use `eval_strategy` instead\n",
      "  warnings.warn(\n"
     ]
    }
   ],
   "source": [
    "model = AutoModelForSequenceClassification.from_pretrained('indolem/indobertweet-base-uncased', num_labels=8)\n",
    "model = model.to('cuda')\n",
    "\n",
    "# Define training arguments\n",
    "args = TrainingArguments(\n",
    "    output_dir=\"output\",\n",
    "    num_train_epochs=5,\n",
    "    evaluation_strategy=\"epoch\",\n",
    "    save_strategy=\"epoch\",\n",
    "    per_device_train_batch_size=8,\n",
    "    per_device_eval_batch_size=8,\n",
    "    logging_dir='./logs',\n",
    ")\n",
    "\n",
    "def compute_metrics(eval_pred):\n",
    "    logits, labels = eval_pred\n",
    "    predictions = np.argmax(logits, axis=-1)\n",
    "    balanced_acc = balanced_accuracy_score(labels, predictions)\n",
    "    return {\"balanced_accuracy\": balanced_acc}"
   ]
  },
  {
   "cell_type": "code",
   "execution_count": 8,
   "metadata": {},
   "outputs": [
    {
     "name": "stderr",
     "output_type": "stream",
     "text": [
      "  0%|          | 0/27365 [00:00<?, ?it/s]c:\\Users\\Asus\\anaconda3\\envs\\BDC2024\\lib\\site-packages\\transformers\\models\\bert\\modeling_bert.py:435: UserWarning: 1Torch was not compiled with flash attention. (Triggered internally at C:\\actions-runner\\_work\\pytorch\\pytorch\\builder\\windows\\pytorch\\aten\\src\\ATen\\native\\transformers\\cuda\\sdp_utils.cpp:455.)\n",
      "  attn_output = torch.nn.functional.scaled_dot_product_attention(\n",
      "  2%|▏         | 500/27365 [10:15<9:14:10,  1.24s/it] "
     ]
    },
    {
     "name": "stdout",
     "output_type": "stream",
     "text": [
      "{'loss': 0.8164, 'grad_norm': 3.5057549476623535, 'learning_rate': 4.908642426457154e-05, 'epoch': 0.09}\n"
     ]
    },
    {
     "name": "stderr",
     "output_type": "stream",
     "text": [
      "  4%|▎         | 1000/27365 [20:55<9:30:31,  1.30s/it]"
     ]
    },
    {
     "name": "stdout",
     "output_type": "stream",
     "text": [
      "{'loss': 0.5639, 'grad_norm': 3.305156946182251, 'learning_rate': 4.8172848529143066e-05, 'epoch': 0.18}\n"
     ]
    },
    {
     "name": "stderr",
     "output_type": "stream",
     "text": [
      "  5%|▌         | 1500/27365 [31:41<9:15:22,  1.29s/it]"
     ]
    },
    {
     "name": "stdout",
     "output_type": "stream",
     "text": [
      "{'loss': 0.4564, 'grad_norm': 18.123836517333984, 'learning_rate': 4.72592727937146e-05, 'epoch': 0.27}\n"
     ]
    },
    {
     "name": "stderr",
     "output_type": "stream",
     "text": [
      "  7%|▋         | 2000/27365 [42:13<8:34:19,  1.22s/it]"
     ]
    },
    {
     "name": "stdout",
     "output_type": "stream",
     "text": [
      "{'loss': 0.3796, 'grad_norm': 6.382402420043945, 'learning_rate': 4.634569705828614e-05, 'epoch': 0.37}\n"
     ]
    },
    {
     "name": "stderr",
     "output_type": "stream",
     "text": [
      "  9%|▉         | 2500/27365 [52:16<8:23:48,  1.22s/it]"
     ]
    },
    {
     "name": "stdout",
     "output_type": "stream",
     "text": [
      "{'loss': 0.3328, 'grad_norm': 5.650561332702637, 'learning_rate': 4.5432121322857666e-05, 'epoch': 0.46}\n"
     ]
    },
    {
     "name": "stderr",
     "output_type": "stream",
     "text": [
      " 11%|█         | 3000/27365 [1:03:17<8:57:03,  1.32s/it]"
     ]
    },
    {
     "name": "stdout",
     "output_type": "stream",
     "text": [
      "{'loss': 0.2752, 'grad_norm': 19.023136138916016, 'learning_rate': 4.45185455874292e-05, 'epoch': 0.55}\n"
     ]
    },
    {
     "name": "stderr",
     "output_type": "stream",
     "text": [
      " 13%|█▎        | 3432/27365 [1:12:52<8:49:57,  1.33s/it]"
     ]
    }
   ],
   "source": [
    "trainer = Trainer(\n",
    "    model=model,\n",
    "    args=args,\n",
    "    train_dataset=train_dataset,\n",
    "    eval_dataset=eval_dataset,\n",
    "    compute_metrics=compute_metrics\n",
    ")\n",
    "\n",
    "trainer.train()\n",
    "trainer.save_model(\"./bert_tweet_50K\")\n",
    "trainer.evaluate()"
   ]
  },
  {
   "cell_type": "code",
   "execution_count": 3,
   "metadata": {},
   "outputs": [
    {
     "name": "stdout",
     "output_type": "stream",
     "text": [
      "    IDText                                               Text Predicted_Label\n",
      "0  TXT0001  lu mau org2 pro-demokrasi di negara ini bisa p...         Politik\n",
      "1  TXT0002  prabowo ditanya soal hutang luar negeri dia me...         Ekonomi\n",
      "2  TXT0003  kiki_daliyo  ganjar pranowo itulah beliau soso...        Ideologi\n",
      "3  TXT0004  @kumparan prabowo gibran yang bisa melakukan i...         Politik\n",
      "4  TXT0005  @sniperruben45 @uda_zulhendra @ainunnajib lah ...         Politik\n"
     ]
    }
   ],
   "source": [
    "import pandas as pd\n",
    "from transformers import AutoTokenizer, AutoModelForSequenceClassification\n",
    "import torch\n",
    "from sklearn.preprocessing import LabelEncoder\n",
    "\n",
    "# Load dataset\n",
    "dataset = pd.read_csv(\"./predict data/raw_text.csv\")\n",
    "\n",
    "# Prepare texts\n",
    "X = list(dataset['text'].astype(str))\n",
    "\n",
    "# Define path to the model\n",
    "model_path = './bert_model/raw_twitbert/raw_tweetbert'\n",
    "\n",
    "# Check if GPU is available\n",
    "device = torch.device('cpu')\n",
    "\n",
    "# Load tokenizer and model from local directory\n",
    "tokenizer = AutoTokenizer.from_pretrained(\"indolem/indobertweet-base-uncased\")\n",
    "model = AutoModelForSequenceClassification.from_pretrained(model_path).to(device)\n",
    "\n",
    "def predict_batch(texts, batch_size=16):\n",
    "    \"\"\"Tokenize texts and perform prediction in batches.\"\"\"\n",
    "    results = []\n",
    "    for i in range(0, len(texts), batch_size):\n",
    "        batch_texts = texts[i:i + batch_size]\n",
    "        inputs = tokenizer(batch_texts, return_tensors='pt', padding=True, truncation=True, max_length=512).to(device)\n",
    "\n",
    "        with torch.no_grad():\n",
    "            outputs = model(**inputs)\n",
    "            logits = outputs.logits\n",
    "            batch_predictions = torch.argmax(logits, dim=-1).cpu().numpy()\n",
    "            results.extend(batch_predictions)\n",
    "\n",
    "    return results\n",
    "\n",
    "# Perform batch prediction\n",
    "batch_size = 16  # Adjust batch size as needed\n",
    "predicted_labels = predict_batch(X, batch_size)\n",
    "\n",
    "# Convert predictions to actual class labels\n",
    "label = ['Politik',\n",
    " 'Ideologi',\n",
    " 'Pertahanan dan Keamanan',\n",
    " 'Sosial Budaya',\n",
    " 'Ekonomi',\n",
    " 'Demografi',\n",
    " 'Geografi',\n",
    " 'Sumber Daya Alam']\n",
    "\n",
    "le = LabelEncoder()\n",
    "le.fit(label)  # Fit label encoder on the dataset labels\n",
    "predicted_labels = le.inverse_transform(predicted_labels)\n",
    "\n",
    "# Create a new DataFrame with text and predicted labels\n",
    "results_df = pd.DataFrame({\n",
    "    'IDText' : dataset['IDText'],\n",
    "    'Text': X,\n",
    "    'Predicted_Label': predicted_labels\n",
    "})\n",
    "\n",
    "# Optionally, you can save this DataFrame to a CSV file\n",
    "results_df.to_csv(\"./predict data/result/raw_tweet.csv\", index=False)\n",
    "\n",
    "print(results_df.head())  # Print the first few rows of the DataFrame"
   ]
  },
  {
   "cell_type": "code",
   "execution_count": 4,
   "metadata": {},
   "outputs": [],
   "source": [
    "test = pd.read_csv(\"./dataset/raw dataset/dataset_unlabeled_penyisihan_bdc_2024.csv\",delimiter=\";\")"
   ]
  },
  {
   "cell_type": "code",
   "execution_count": 8,
   "metadata": {},
   "outputs": [],
   "source": [
    "test.to_excel(\"test_excel.xlsx\",index=False)"
   ]
  },
  {
   "cell_type": "markdown",
   "metadata": {},
   "source": [
    "## FIND MODE"
   ]
  },
  {
   "cell_type": "code",
   "execution_count": 55,
   "metadata": {},
   "outputs": [],
   "source": [
    "result = pd.read_csv(\"./Result/Result Temp.csv\")\n",
    "\n",
    "# modus = result[['Predicted_Label_raw_tweet','Predicted_Label_Distilbert','Predicted_Label_BertTweet']].mode(axis=1)"
   ]
  },
  {
   "cell_type": "code",
   "execution_count": 61,
   "metadata": {},
   "outputs": [
    {
     "data": {
      "text/html": [
       "<div>\n",
       "<style scoped>\n",
       "    .dataframe tbody tr th:only-of-type {\n",
       "        vertical-align: middle;\n",
       "    }\n",
       "\n",
       "    .dataframe tbody tr th {\n",
       "        vertical-align: top;\n",
       "    }\n",
       "\n",
       "    .dataframe thead th {\n",
       "        text-align: right;\n",
       "    }\n",
       "</style>\n",
       "<table border=\"1\" class=\"dataframe\">\n",
       "  <thead>\n",
       "    <tr style=\"text-align: right;\">\n",
       "      <th></th>\n",
       "      <th>IDText</th>\n",
       "      <th>Text</th>\n",
       "      <th>Predicted_Label_raw_tweet</th>\n",
       "      <th>Predicted_Label_BertTweet</th>\n",
       "      <th>modus</th>\n",
       "    </tr>\n",
       "  </thead>\n",
       "  <tbody>\n",
       "    <tr>\n",
       "      <th>0</th>\n",
       "      <td>TXT0001</td>\n",
       "      <td>lu mau org2 pro-demokrasi di negara ini bisa p...</td>\n",
       "      <td>Politik</td>\n",
       "      <td>Politik</td>\n",
       "      <td>Politik</td>\n",
       "    </tr>\n",
       "    <tr>\n",
       "      <th>1</th>\n",
       "      <td>TXT0002</td>\n",
       "      <td>prabowo ditanya soal hutang luar negeri dia me...</td>\n",
       "      <td>Ekonomi</td>\n",
       "      <td>Ekonomi</td>\n",
       "      <td>Ekonomi</td>\n",
       "    </tr>\n",
       "    <tr>\n",
       "      <th>2</th>\n",
       "      <td>TXT0003</td>\n",
       "      <td>kiki_daliyo  ganjar pranowo itulah beliau soso...</td>\n",
       "      <td>Ideologi</td>\n",
       "      <td>Ideologi</td>\n",
       "      <td>Ideologi</td>\n",
       "    </tr>\n",
       "    <tr>\n",
       "      <th>3</th>\n",
       "      <td>TXT0004</td>\n",
       "      <td>@kumparan prabowo gibran yang bisa melakukan i...</td>\n",
       "      <td>Politik</td>\n",
       "      <td>Politik</td>\n",
       "      <td>Politik</td>\n",
       "    </tr>\n",
       "    <tr>\n",
       "      <th>4</th>\n",
       "      <td>TXT0005</td>\n",
       "      <td>@sniperruben45 @uda_zulhendra @ainunnajib lah ...</td>\n",
       "      <td>Politik</td>\n",
       "      <td>Politik</td>\n",
       "      <td>Politik</td>\n",
       "    </tr>\n",
       "    <tr>\n",
       "      <th>...</th>\n",
       "      <td>...</td>\n",
       "      <td>...</td>\n",
       "      <td>...</td>\n",
       "      <td>...</td>\n",
       "      <td>...</td>\n",
       "    </tr>\n",
       "    <tr>\n",
       "      <th>995</th>\n",
       "      <td>TXT0996</td>\n",
       "      <td>bikin bangga deh, ganjar-mahfud mau alokasikan...</td>\n",
       "      <td>Ekonomi</td>\n",
       "      <td>Politik</td>\n",
       "      <td>Ekonomi</td>\n",
       "    </tr>\n",
       "    <tr>\n",
       "      <th>996</th>\n",
       "      <td>TXT0997</td>\n",
       "      <td>pak jokowi sebelum pilpres 2024 berbesar hati ...</td>\n",
       "      <td>Politik</td>\n",
       "      <td>Politik</td>\n",
       "      <td>Politik</td>\n",
       "    </tr>\n",
       "    <tr>\n",
       "      <th>997</th>\n",
       "      <td>TXT0998</td>\n",
       "      <td>@datuakrajoangek sbaiknya si gemot nga usah ik...</td>\n",
       "      <td>Sumber Daya Alam</td>\n",
       "      <td>Politik</td>\n",
       "      <td>Politik</td>\n",
       "    </tr>\n",
       "    <tr>\n",
       "      <th>998</th>\n",
       "      <td>TXT0999</td>\n",
       "      <td>kebiasaan merembuk atau bermusyawarah jadi gay...</td>\n",
       "      <td>Ekonomi</td>\n",
       "      <td>Politik</td>\n",
       "      <td>Ekonomi</td>\n",
       "    </tr>\n",
       "    <tr>\n",
       "      <th>999</th>\n",
       "      <td>TXT1000</td>\n",
       "      <td>mirage ditolak juwono, dibeli prabowo, jubir t...</td>\n",
       "      <td>Politik</td>\n",
       "      <td>Politik</td>\n",
       "      <td>Politik</td>\n",
       "    </tr>\n",
       "  </tbody>\n",
       "</table>\n",
       "<p>1000 rows × 5 columns</p>\n",
       "</div>"
      ],
      "text/plain": [
       "      IDText                                               Text  \\\n",
       "0    TXT0001  lu mau org2 pro-demokrasi di negara ini bisa p...   \n",
       "1    TXT0002  prabowo ditanya soal hutang luar negeri dia me...   \n",
       "2    TXT0003  kiki_daliyo  ganjar pranowo itulah beliau soso...   \n",
       "3    TXT0004  @kumparan prabowo gibran yang bisa melakukan i...   \n",
       "4    TXT0005  @sniperruben45 @uda_zulhendra @ainunnajib lah ...   \n",
       "..       ...                                                ...   \n",
       "995  TXT0996  bikin bangga deh, ganjar-mahfud mau alokasikan...   \n",
       "996  TXT0997  pak jokowi sebelum pilpres 2024 berbesar hati ...   \n",
       "997  TXT0998  @datuakrajoangek sbaiknya si gemot nga usah ik...   \n",
       "998  TXT0999  kebiasaan merembuk atau bermusyawarah jadi gay...   \n",
       "999  TXT1000  mirage ditolak juwono, dibeli prabowo, jubir t...   \n",
       "\n",
       "    Predicted_Label_raw_tweet Predicted_Label_BertTweet     modus  \n",
       "0                     Politik                   Politik   Politik  \n",
       "1                     Ekonomi                   Ekonomi   Ekonomi  \n",
       "2                    Ideologi                  Ideologi  Ideologi  \n",
       "3                     Politik                   Politik   Politik  \n",
       "4                     Politik                   Politik   Politik  \n",
       "..                        ...                       ...       ...  \n",
       "995                   Ekonomi                   Politik   Ekonomi  \n",
       "996                   Politik                   Politik   Politik  \n",
       "997          Sumber Daya Alam                   Politik   Politik  \n",
       "998                   Ekonomi                   Politik   Ekonomi  \n",
       "999                   Politik                   Politik   Politik  \n",
       "\n",
       "[1000 rows x 5 columns]"
      ]
     },
     "execution_count": 61,
     "metadata": {},
     "output_type": "execute_result"
    }
   ],
   "source": [
    "result"
   ]
  },
  {
   "cell_type": "code",
   "execution_count": null,
   "metadata": {},
   "outputs": [],
   "source": [
    "from sklearn.metrics import balanced_accuracy_score\n",
    "import pandas as pd\n",
    "\n",
    "def find_mode(row):\n",
    "    mode = row[['Predicted_Label_raw_tweet', 'Predicted_Label_BertTweet']].mode()\n",
    "    print(mode)\n",
    "    if len(mode) == 0:\n",
    "        return row['Predicted_Label_BertTweet']  # Jika tidak ada modus, kembalikan None atau nilai lain sesuai kebutuhan\n",
    "    else:\n",
    "        return mode.iloc[0]  # Mengambil nilai modus dari baris pertama, kolom pertam\n",
    "    \n",
    "modus = result.apply(find_mode, axis=1)\n",
    "\n",
    "result['modus'] = modus"
   ]
  },
  {
   "cell_type": "code",
   "execution_count": 67,
   "metadata": {},
   "outputs": [
    {
     "data": {
      "text/plain": [
       "0       Politik\n",
       "1       Ekonomi\n",
       "2      Ideologi\n",
       "3       Politik\n",
       "4       Politik\n",
       "         ...   \n",
       "995     Ekonomi\n",
       "996     Politik\n",
       "997     Politik\n",
       "998     Ekonomi\n",
       "999     Politik\n",
       "Name: modus, Length: 1000, dtype: object"
      ]
     },
     "execution_count": 67,
     "metadata": {},
     "output_type": "execute_result"
    }
   ],
   "source": [
    "result['modus']"
   ]
  },
  {
   "cell_type": "code",
   "execution_count": 85,
   "metadata": {},
   "outputs": [],
   "source": [
    "from sklearn.metrics import balanced_accuracy_score\n",
    "import pandas as pd"
   ]
  },
  {
   "cell_type": "code",
   "execution_count": 86,
   "metadata": {},
   "outputs": [],
   "source": [
    "predict = result['modus']\n",
    "label = result['Label']"
   ]
  },
  {
   "cell_type": "code",
   "execution_count": 53,
   "metadata": {},
   "outputs": [],
   "source": [
    "result.to_csv(\"bismillah_2.csv\",index=False)"
   ]
  },
  {
   "cell_type": "code",
   "execution_count": 87,
   "metadata": {},
   "outputs": [
    {
     "name": "stdout",
     "output_type": "stream",
     "text": [
      "Balanced Accuracy: 0.5314476525678185\n"
     ]
    }
   ],
   "source": [
    "balanced_acc = balanced_accuracy_score(label, predict)\n",
    "\n",
    "print(\"Balanced Accuracy:\", balanced_acc)"
   ]
  },
  {
   "cell_type": "code",
   "execution_count": 96,
   "metadata": {},
   "outputs": [
    {
     "name": "stdout",
     "output_type": "stream",
     "text": [
      "Best Combination of Features: ['Predicted_Label_raw_tweet', 'Predicted_Label_Indolem']\n",
      "Best Balanced Accuracy: 0.5660748302988858\n",
      "Best Prediction: ['Politik' 'Ekonomi' 'Ideologi' 'Politik' 'Politik' 'Politik' 'Politik'\n",
      " 'Pertahanan dan Keamanan' 'Ideologi' 'Ekonomi' 'Politik' 'Politik'\n",
      " 'Politik' 'Politik' 'Sosial Budaya' 'Politik' 'Ekonomi' 'Ekonomi'\n",
      " 'Demografi' 'Politik' 'Politik' 'Politik' 'Ekonomi' 'Geografi' 'Ekonomi'\n",
      " 'Politik' 'Pertahanan dan Keamanan' 'Politik' 'Ideologi' 'Politik'\n",
      " 'Politik' 'Politik' 'Politik' 'Politik' 'Politik' 'Politik' 'Politik'\n",
      " 'Politik' 'Politik' 'Politik' 'Politik' 'Ekonomi' 'Politik' 'Ekonomi'\n",
      " 'Politik' 'Ekonomi' 'Ekonomi' 'Politik' 'Politik' 'Politik' 'Politik'\n",
      " 'Politik' 'Politik' 'Politik' 'Politik' 'Demografi' 'Politik' 'Politik'\n",
      " 'Politik' 'Politik' 'Politik' 'Pertahanan dan Keamanan' 'Politik'\n",
      " 'Politik' 'Politik' 'Ekonomi' 'Politik' 'Politik' 'Politik'\n",
      " 'Pertahanan dan Keamanan' 'Politik' 'Politik' 'Politik' 'Politik'\n",
      " 'Politik' 'Ekonomi' 'Politik' 'Ekonomi' 'Politik' 'Demografi' 'Politik'\n",
      " 'Pertahanan dan Keamanan' 'Politik' 'Politik' 'Pertahanan dan Keamanan'\n",
      " 'Ekonomi' 'Politik' 'Ideologi' 'Politik' 'Pertahanan dan Keamanan'\n",
      " 'Politik' 'Ekonomi' 'Politik' 'Ideologi' 'Politik' 'Politik' 'Ekonomi'\n",
      " 'Politik' 'Pertahanan dan Keamanan' 'Ideologi' 'Pertahanan dan Keamanan'\n",
      " 'Politik' 'Pertahanan dan Keamanan' 'Ideologi' 'Politik' 'Politik'\n",
      " 'Politik' 'Politik' 'Ekonomi' 'Politik' 'Politik' 'Politik' 'Politik'\n",
      " 'Politik' 'Politik' 'Politik' 'Politik' 'Politik' 'Politik' 'Politik'\n",
      " 'Politik' 'Politik' 'Sosial Budaya' 'Politik' 'Politik' 'Ideologi'\n",
      " 'Politik' 'Politik' 'Politik' 'Politik' 'Pertahanan dan Keamanan'\n",
      " 'Ekonomi' 'Politik' 'Pertahanan dan Keamanan' 'Sosial Budaya' 'Politik'\n",
      " 'Politik' 'Ekonomi' 'Politik' 'Demografi' 'Ekonomi' 'Ekonomi' 'Ideologi'\n",
      " 'Ekonomi' 'Politik' 'Pertahanan dan Keamanan' 'Ekonomi' 'Politik'\n",
      " 'Ekonomi' 'Politik' 'Politik' 'Pertahanan dan Keamanan' 'Ekonomi'\n",
      " 'Ideologi' 'Politik' 'Ekonomi' 'Politik' 'Ekonomi' 'Ekonomi' 'Politik'\n",
      " 'Politik' 'Ekonomi' 'Politik' 'Politik' 'Politik'\n",
      " 'Pertahanan dan Keamanan' 'Pertahanan dan Keamanan' 'Geografi' 'Politik'\n",
      " 'Ideologi' 'Politik' 'Pertahanan dan Keamanan' 'Pertahanan dan Keamanan'\n",
      " 'Politik' 'Politik' 'Politik' 'Politik' 'Ideologi' 'Politik' 'Politik'\n",
      " 'Politik' 'Ekonomi' 'Politik' 'Sumber Daya Alam' 'Politik'\n",
      " 'Pertahanan dan Keamanan' 'Politik' 'Pertahanan dan Keamanan' 'Politik'\n",
      " 'Pertahanan dan Keamanan' 'Politik' 'Politik' 'Politik' 'Politik'\n",
      " 'Politik' 'Demografi' 'Politik' 'Politik' 'Politik' 'Politik' 'Ekonomi'\n",
      " 'Pertahanan dan Keamanan' 'Ideologi' 'Ideologi' 'Politik' 'Ekonomi'\n",
      " 'Ekonomi' 'Politik' 'Politik' 'Ekonomi' 'Politik' 'Ekonomi' 'Politik'\n",
      " 'Politik' 'Politik' 'Politik' 'Politik' 'Politik' 'Sosial Budaya'\n",
      " 'Demografi' 'Politik' 'Politik' 'Ekonomi' 'Politik'\n",
      " 'Pertahanan dan Keamanan' 'Politik' 'Politik' 'Politik' 'Politik'\n",
      " 'Politik' 'Demografi' 'Politik' 'Politik' 'Ideologi' 'Politik' 'Politik'\n",
      " 'Politik' 'Pertahanan dan Keamanan' 'Politik' 'Politik' 'Politik'\n",
      " 'Pertahanan dan Keamanan' 'Politik' 'Sosial Budaya' 'Politik' 'Demografi'\n",
      " 'Ekonomi' 'Ekonomi' 'Politik' 'Ekonomi' 'Sosial Budaya' 'Politik'\n",
      " 'Pertahanan dan Keamanan' 'Politik' 'Ekonomi' 'Ekonomi' 'Sosial Budaya'\n",
      " 'Politik' 'Ideologi' 'Politik' 'Politik' 'Ekonomi' 'Politik' 'Politik'\n",
      " 'Ekonomi' 'Politik' 'Ekonomi' 'Politik' 'Politik' 'Politik' 'Politik'\n",
      " 'Ekonomi' 'Politik' 'Ekonomi' 'Politik' 'Politik' 'Politik' 'Politik'\n",
      " 'Ekonomi' 'Pertahanan dan Keamanan' 'Pertahanan dan Keamanan' 'Ekonomi'\n",
      " 'Politik' 'Politik' 'Politik' 'Politik' 'Politik' 'Sosial Budaya'\n",
      " 'Politik' 'Ideologi' 'Politik' 'Pertahanan dan Keamanan' 'Politik'\n",
      " 'Politik' 'Politik' 'Politik' 'Politik' 'Politik' 'Ekonomi' 'Politik'\n",
      " 'Politik' 'Ekonomi' 'Politik' 'Politik' 'Politik' 'Politik'\n",
      " 'Pertahanan dan Keamanan' 'Pertahanan dan Keamanan' 'Ekonomi' 'Politik'\n",
      " 'Ekonomi' 'Ekonomi' 'Politik' 'Ekonomi' 'Politik' 'Ekonomi'\n",
      " 'Sosial Budaya' 'Politik' 'Politik' 'Politik' 'Politik' 'Politik'\n",
      " 'Politik' 'Politik' 'Politik' 'Politik' 'Politik' 'Politik' 'Ekonomi'\n",
      " 'Politik' 'Pertahanan dan Keamanan' 'Ekonomi' 'Politik'\n",
      " 'Pertahanan dan Keamanan' 'Politik' 'Ekonomi' 'Politik' 'Politik'\n",
      " 'Politik' 'Politik' 'Politik' 'Politik' 'Politik' 'Ekonomi'\n",
      " 'Pertahanan dan Keamanan' 'Politik' 'Politik' 'Politik' 'Ekonomi'\n",
      " 'Pertahanan dan Keamanan' 'Politik' 'Politik' 'Ideologi' 'Politik'\n",
      " 'Ekonomi' 'Politik' 'Pertahanan dan Keamanan' 'Politik' 'Politik'\n",
      " 'Ekonomi' 'Politik' 'Politik' 'Politik' 'Politik' 'Ekonomi' 'Politik'\n",
      " 'Politik' 'Politik' 'Pertahanan dan Keamanan' 'Politik' 'Politik'\n",
      " 'Pertahanan dan Keamanan' 'Politik' 'Pertahanan dan Keamanan'\n",
      " 'Pertahanan dan Keamanan' 'Ideologi' 'Politik' 'Politik' 'Ekonomi'\n",
      " 'Ekonomi' 'Ekonomi' 'Politik' 'Ekonomi' 'Politik' 'Politik' 'Politik'\n",
      " 'Politik' 'Sosial Budaya' 'Politik' 'Politik' 'Politik' 'Ekonomi'\n",
      " 'Politik' 'Ekonomi' 'Ideologi' 'Politik' 'Politik' 'Politik' 'Politik'\n",
      " 'Pertahanan dan Keamanan' 'Politik' 'Politik' 'Politik' 'Politik'\n",
      " 'Politik' 'Politik' 'Ideologi' 'Politik' 'Demografi' 'Ekonomi' 'Politik'\n",
      " 'Politik' 'Politik' 'Politik' 'Politik' 'Politik' 'Politik' 'Politik'\n",
      " 'Politik' 'Politik' 'Politik' 'Ekonomi' 'Sosial Budaya' 'Ekonomi'\n",
      " 'Demografi' 'Politik' 'Politik' 'Politik' 'Politik' 'Politik' 'Politik'\n",
      " 'Politik' 'Geografi' 'Politik' 'Politik' 'Demografi' 'Politik' 'Politik'\n",
      " 'Politik' 'Politik' 'Politik' 'Ekonomi' 'Politik' 'Sosial Budaya'\n",
      " 'Politik' 'Politik' 'Ideologi' 'Politik' 'Politik' 'Politik' 'Politik'\n",
      " 'Politik' 'Ideologi' 'Politik' 'Politik' 'Politik' 'Politik'\n",
      " 'Sosial Budaya' 'Politik' 'Ekonomi' 'Politik' 'Politik' 'Sosial Budaya'\n",
      " 'Ekonomi' 'Politik' 'Politik' 'Ideologi' 'Politik' 'Ideologi' 'Politik'\n",
      " 'Politik' 'Politik' 'Ideologi' 'Pertahanan dan Keamanan' 'Ideologi'\n",
      " 'Politik' 'Politik' 'Pertahanan dan Keamanan' 'Pertahanan dan Keamanan'\n",
      " 'Ekonomi' 'Politik' 'Politik' 'Politik' 'Politik' 'Politik' 'Politik'\n",
      " 'Politik' 'Politik' 'Ekonomi' 'Politik' 'Politik' 'Ekonomi' 'Politik'\n",
      " 'Ekonomi' 'Politik' 'Ekonomi' 'Politik' 'Politik' 'Ekonomi' 'Politik'\n",
      " 'Politik' 'Politik' 'Politik' 'Politik' 'Sumber Daya Alam' 'Politik'\n",
      " 'Ideologi' 'Ekonomi' 'Politik' 'Ideologi' 'Politik' 'Ekonomi' 'Politik'\n",
      " 'Politik' 'Politik' 'Sosial Budaya' 'Politik' 'Ekonomi' 'Politik'\n",
      " 'Demografi' 'Ekonomi' 'Politik' 'Politik' 'Politik'\n",
      " 'Pertahanan dan Keamanan' 'Ekonomi' 'Politik' 'Politik' 'Politik'\n",
      " 'Politik' 'Ideologi' 'Politik' 'Pertahanan dan Keamanan' 'Sosial Budaya'\n",
      " 'Politik' 'Politik' 'Politik' 'Politik' 'Politik' 'Politik' 'Politik'\n",
      " 'Politik' 'Politik' 'Politik' 'Politik' 'Politik' 'Politik' 'Ekonomi'\n",
      " 'Ekonomi' 'Politik' 'Geografi' 'Politik' 'Politik' 'Ideologi' 'Politik'\n",
      " 'Politik' 'Pertahanan dan Keamanan' 'Ideologi' 'Politik' 'Ideologi'\n",
      " 'Ekonomi' 'Pertahanan dan Keamanan' 'Politik' 'Politik' 'Ekonomi'\n",
      " 'Ekonomi' 'Politik' 'Ekonomi' 'Pertahanan dan Keamanan' 'Ekonomi'\n",
      " 'Politik' 'Politik' 'Politik' 'Politik' 'Pertahanan dan Keamanan'\n",
      " 'Ekonomi' 'Pertahanan dan Keamanan' 'Politik' 'Politik' 'Politik'\n",
      " 'Politik' 'Politik' 'Pertahanan dan Keamanan' 'Politik' 'Politik'\n",
      " 'Politik' 'Politik' 'Ekonomi' 'Ekonomi' 'Politik' 'Politik' 'Politik'\n",
      " 'Politik' 'Politik' 'Politik' 'Politik' 'Politik' 'Ekonomi' 'Ekonomi'\n",
      " 'Sosial Budaya' 'Politik' 'Politik' 'Politik' 'Politik' 'Politik'\n",
      " 'Politik' 'Pertahanan dan Keamanan' 'Politik' 'Politik' 'Ekonomi'\n",
      " 'Politik' 'Politik' 'Politik' 'Politik' 'Politik' 'Ideologi' 'Politik'\n",
      " 'Pertahanan dan Keamanan' 'Demografi' 'Politik' 'Politik'\n",
      " 'Pertahanan dan Keamanan' 'Politik' 'Politik' 'Demografi'\n",
      " 'Sumber Daya Alam' 'Politik' 'Politik' 'Politik'\n",
      " 'Pertahanan dan Keamanan' 'Politik' 'Pertahanan dan Keamanan' 'Politik'\n",
      " 'Politik' 'Politik' 'Ekonomi' 'Politik' 'Politik' 'Politik' 'Politik'\n",
      " 'Ideologi' 'Ideologi' 'Ekonomi' 'Politik' 'Politik' 'Politik' 'Politik'\n",
      " 'Politik' 'Politik' 'Politik' 'Ekonomi' 'Ideologi' 'Politik'\n",
      " 'Pertahanan dan Keamanan' 'Sosial Budaya' 'Politik' 'Politik' 'Ideologi'\n",
      " 'Pertahanan dan Keamanan' 'Politik' 'Politik' 'Demografi' 'Politik'\n",
      " 'Ekonomi' 'Politik' 'Politik' 'Demografi' 'Politik' 'Politik' 'Politik'\n",
      " 'Politik' 'Politik' 'Politik' 'Politik' 'Ekonomi' 'Ekonomi' 'Politik'\n",
      " 'Pertahanan dan Keamanan' 'Politik' 'Pertahanan dan Keamanan' 'Politik'\n",
      " 'Politik' 'Politik' 'Politik' 'Ekonomi' 'Politik' 'Politik' 'Politik'\n",
      " 'Politik' 'Politik' 'Politik' 'Politik' 'Ekonomi' 'Politik' 'Politik'\n",
      " 'Ekonomi' 'Politik' 'Ideologi' 'Sosial Budaya' 'Politik' 'Politik'\n",
      " 'Politik' 'Ideologi' 'Politik' 'Ekonomi' 'Ekonomi' 'Politik' 'Politik'\n",
      " 'Sosial Budaya' 'Politik' 'Politik' 'Politik' 'Politik' 'Politik'\n",
      " 'Politik' 'Politik' 'Politik' 'Ekonomi' 'Pertahanan dan Keamanan'\n",
      " 'Pertahanan dan Keamanan' 'Ekonomi' 'Politik' 'Politik' 'Politik'\n",
      " 'Politik' 'Pertahanan dan Keamanan' 'Demografi' 'Pertahanan dan Keamanan'\n",
      " 'Geografi' 'Politik' 'Pertahanan dan Keamanan' 'Sumber Daya Alam'\n",
      " 'Politik' 'Ideologi' 'Ekonomi' 'Geografi' 'Politik' 'Politik'\n",
      " 'Pertahanan dan Keamanan' 'Ideologi' 'Ekonomi' 'Pertahanan dan Keamanan'\n",
      " 'Politik' 'Ekonomi' 'Politik' 'Politik' 'Demografi' 'Ideologi' 'Ideologi'\n",
      " 'Politik' 'Politik' 'Pertahanan dan Keamanan' 'Politik' 'Politik'\n",
      " 'Sumber Daya Alam' 'Sosial Budaya' 'Politik' 'Politik' 'Politik'\n",
      " 'Politik' 'Politik' 'Politik' 'Politik' 'Ekonomi' 'Politik'\n",
      " 'Pertahanan dan Keamanan' 'Politik' 'Pertahanan dan Keamanan'\n",
      " 'Pertahanan dan Keamanan' 'Politik' 'Ekonomi' 'Ekonomi' 'Politik'\n",
      " 'Pertahanan dan Keamanan' 'Ekonomi' 'Demografi' 'Politik' 'Ekonomi'\n",
      " 'Geografi' 'Ekonomi' 'Politik' 'Politik' 'Politik' 'Politik' 'Politik'\n",
      " 'Politik' 'Politik' 'Politik' 'Politik' 'Pertahanan dan Keamanan'\n",
      " 'Politik' 'Ideologi' 'Ekonomi' 'Ekonomi' 'Pertahanan dan Keamanan'\n",
      " 'Politik' 'Politik' 'Politik' 'Pertahanan dan Keamanan' 'Politik'\n",
      " 'Ekonomi' 'Politik' 'Politik' 'Ideologi' 'Politik' 'Politik'\n",
      " 'Sosial Budaya' 'Politik' 'Politik' 'Ekonomi' 'Politik' 'Politik'\n",
      " 'Politik' 'Politik' 'Politik' 'Politik' 'Politik' 'Politik' 'Politik'\n",
      " 'Politik' 'Politik' 'Ekonomi' 'Ekonomi' 'Politik' 'Politik' 'Politik'\n",
      " 'Politik' 'Politik' 'Politik' 'Politik' 'Politik' 'Ideologi' 'Ekonomi'\n",
      " 'Politik' 'Politik' 'Politik' 'Ideologi' 'Pertahanan dan Keamanan'\n",
      " 'Politik' 'Ekonomi' 'Ekonomi' 'Politik' 'Politik' 'Politik' 'Politik'\n",
      " 'Politik' 'Politik' 'Politik' 'Politik' 'Politik'\n",
      " 'Pertahanan dan Keamanan' 'Ideologi' 'Ekonomi' 'Politik' 'Politik'\n",
      " 'Ekonomi' 'Ekonomi' 'Politik' 'Politik' 'Politik' 'Politik' 'Politik'\n",
      " 'Ekonomi' 'Pertahanan dan Keamanan' 'Politik' 'Politik' 'Politik'\n",
      " 'Demografi' 'Pertahanan dan Keamanan' 'Ekonomi' 'Politik'\n",
      " 'Pertahanan dan Keamanan' 'Ekonomi' 'Politik' 'Politik' 'Politik'\n",
      " 'Politik' 'Politik' 'Ekonomi' 'Politik' 'Politik'\n",
      " 'Pertahanan dan Keamanan' 'Politik' 'Politik' 'Pertahanan dan Keamanan'\n",
      " 'Politik' 'Politik' 'Ideologi' 'Politik' 'Politik' 'Politik'\n",
      " 'Pertahanan dan Keamanan' 'Politik' 'Politik' 'Politik' 'Politik'\n",
      " 'Politik' 'Politik' 'Politik' 'Ekonomi' 'Pertahanan dan Keamanan'\n",
      " 'Politik' 'Politik' 'Politik' 'Politik' 'Pertahanan dan Keamanan'\n",
      " 'Pertahanan dan Keamanan' 'Politik' 'Ideologi' 'Politik' 'Politik'\n",
      " 'Pertahanan dan Keamanan' 'Ekonomi' 'Politik' 'Ekonomi' 'Politik'\n",
      " 'Politik' 'Pertahanan dan Keamanan' 'Politik' 'Ekonomi' 'Politik'\n",
      " 'Politik' 'Politik' 'Politik' 'Politik' 'Demografi' 'Demografi' 'Ekonomi'\n",
      " 'Pertahanan dan Keamanan' 'Politik' 'Politik' 'Pertahanan dan Keamanan'\n",
      " 'Sumber Daya Alam' 'Politik' 'Politik' 'Ekonomi' 'Politik'\n",
      " 'Pertahanan dan Keamanan' 'Politik' 'Politik' 'Politik' 'Politik'\n",
      " 'Politik' 'Politik' 'Ekonomi' 'Politik' 'Ekonomi' 'Politik' 'Ekonomi'\n",
      " 'Politik' 'Politik' 'Pertahanan dan Keamanan' 'Politik' 'Politik'\n",
      " 'Politik' 'Politik' 'Politik' 'Politik' 'Politik' 'Politik' 'Ekonomi'\n",
      " 'Politik' 'Ekonomi' 'Politik' 'Politik' 'Politik' 'Politik' 'Politik'\n",
      " 'Politik' 'Politik' 'Ideologi' 'Pertahanan dan Keamanan' 'Politik'\n",
      " 'Politik' 'Politik' 'Politik' 'Pertahanan dan Keamanan' 'Politik'\n",
      " 'Politik' 'Politik' 'Politik' 'Politik' 'Politik' 'Politik' 'Politik'\n",
      " 'Politik' 'Pertahanan dan Keamanan' 'Politik' 'Politik' 'Politik'\n",
      " 'Politik' 'Politik' 'Politik' 'Ideologi' 'Politik' 'Ekonomi' 'Politik'\n",
      " 'Sosial Budaya' 'Ekonomi' 'Demografi']\n"
     ]
    }
   ],
   "source": [
    "from itertools import combinations\n",
    "from sklearn.metrics import balanced_accuracy_score\n",
    "import pandas as pd\n",
    "\n",
    "best_accuracy = 0.0\n",
    "best_combination = None\n",
    "best_prediction = None\n",
    "\n",
    "# Mendefinisikan kolom target dan fitur\n",
    "features = ['Predicted_Label_raw_tweet', 'Predicted_Label_Indolem', 'Predicted_Label_Distilbert', 'Predicted_Label_BertTweet']\n",
    "target = 'Label'\n",
    "\n",
    "# Menggunakan setiap kombinasi fitur\n",
    "for r in range(1, len(features) + 1):\n",
    "    for feature_combination in combinations(features, r):\n",
    "        selected_features = list(feature_combination)\n",
    "        \n",
    "        # Fungsi untuk mencari modus dari kombinasi fitur yang dipilih\n",
    "        def find_mode(row):\n",
    "            mode = row[selected_features].mode()\n",
    "            if len(mode) == 0:\n",
    "                return row['Predicted_Label_BertTweet']\n",
    "            else:\n",
    "                return mode.iloc[0]\n",
    "        \n",
    "        # Menghitung modus dan membuat prediksi\n",
    "        modus = result.apply(find_mode, axis=1)\n",
    "        result['modus'] = modus\n",
    "        \n",
    "        predict = result['modus']\n",
    "        label = result[target]\n",
    "        \n",
    "        # Menghitung balanced accuracy score\n",
    "        balanced_acc = balanced_accuracy_score(label, predict)\n",
    "        \n",
    "        # Memperbarui jika ditemukan yang lebih baik\n",
    "        if balanced_acc > best_accuracy:\n",
    "            best_accuracy = balanced_acc\n",
    "            best_combination = selected_features\n",
    "            best_prediction = predict  # Menyimpan prediksi terbaik\n",
    "\n",
    "print(\"Best Combination of Features:\", best_combination)\n",
    "print(\"Best Balanced Accuracy:\", best_accuracy)\n",
    "print(\"Best Prediction:\", best_prediction.values)"
   ]
  },
  {
   "cell_type": "code",
   "execution_count": 101,
   "metadata": {},
   "outputs": [],
   "source": [
    "result['Kelas'] = best_prediction.values"
   ]
  },
  {
   "cell_type": "code",
   "execution_count": 102,
   "metadata": {},
   "outputs": [
    {
     "data": {
      "text/html": [
       "<div>\n",
       "<style scoped>\n",
       "    .dataframe tbody tr th:only-of-type {\n",
       "        vertical-align: middle;\n",
       "    }\n",
       "\n",
       "    .dataframe tbody tr th {\n",
       "        vertical-align: top;\n",
       "    }\n",
       "\n",
       "    .dataframe thead th {\n",
       "        text-align: right;\n",
       "    }\n",
       "</style>\n",
       "<table border=\"1\" class=\"dataframe\">\n",
       "  <thead>\n",
       "    <tr style=\"text-align: right;\">\n",
       "      <th></th>\n",
       "      <th>IDText</th>\n",
       "      <th>Kelas</th>\n",
       "    </tr>\n",
       "  </thead>\n",
       "  <tbody>\n",
       "    <tr>\n",
       "      <th>0</th>\n",
       "      <td>TXT0001</td>\n",
       "      <td>Politik</td>\n",
       "    </tr>\n",
       "    <tr>\n",
       "      <th>1</th>\n",
       "      <td>TXT0002</td>\n",
       "      <td>Ekonomi</td>\n",
       "    </tr>\n",
       "    <tr>\n",
       "      <th>2</th>\n",
       "      <td>TXT0003</td>\n",
       "      <td>Ideologi</td>\n",
       "    </tr>\n",
       "    <tr>\n",
       "      <th>3</th>\n",
       "      <td>TXT0004</td>\n",
       "      <td>Politik</td>\n",
       "    </tr>\n",
       "    <tr>\n",
       "      <th>4</th>\n",
       "      <td>TXT0005</td>\n",
       "      <td>Politik</td>\n",
       "    </tr>\n",
       "    <tr>\n",
       "      <th>...</th>\n",
       "      <td>...</td>\n",
       "      <td>...</td>\n",
       "    </tr>\n",
       "    <tr>\n",
       "      <th>995</th>\n",
       "      <td>TXT0996</td>\n",
       "      <td>Ekonomi</td>\n",
       "    </tr>\n",
       "    <tr>\n",
       "      <th>996</th>\n",
       "      <td>TXT0997</td>\n",
       "      <td>Politik</td>\n",
       "    </tr>\n",
       "    <tr>\n",
       "      <th>997</th>\n",
       "      <td>TXT0998</td>\n",
       "      <td>Sosial Budaya</td>\n",
       "    </tr>\n",
       "    <tr>\n",
       "      <th>998</th>\n",
       "      <td>TXT0999</td>\n",
       "      <td>Ekonomi</td>\n",
       "    </tr>\n",
       "    <tr>\n",
       "      <th>999</th>\n",
       "      <td>TXT1000</td>\n",
       "      <td>Demografi</td>\n",
       "    </tr>\n",
       "  </tbody>\n",
       "</table>\n",
       "<p>1000 rows × 2 columns</p>\n",
       "</div>"
      ],
      "text/plain": [
       "      IDText          Kelas\n",
       "0    TXT0001        Politik\n",
       "1    TXT0002        Ekonomi\n",
       "2    TXT0003       Ideologi\n",
       "3    TXT0004        Politik\n",
       "4    TXT0005        Politik\n",
       "..       ...            ...\n",
       "995  TXT0996        Ekonomi\n",
       "996  TXT0997        Politik\n",
       "997  TXT0998  Sosial Budaya\n",
       "998  TXT0999        Ekonomi\n",
       "999  TXT1000      Demografi\n",
       "\n",
       "[1000 rows x 2 columns]"
      ]
     },
     "execution_count": 102,
     "metadata": {},
     "output_type": "execute_result"
    }
   ],
   "source": [
    "result[['IDText','Kelas']]"
   ]
  },
  {
   "cell_type": "code",
   "execution_count": 105,
   "metadata": {},
   "outputs": [],
   "source": [
    "result[['Text','Kelas']].to_csv(\"best_answer.csv\",index=False)"
   ]
  },
  {
   "cell_type": "code",
   "execution_count": 103,
   "metadata": {},
   "outputs": [
    {
     "data": {
      "text/plain": [
       "Kelas\n",
       "Politik                    642\n",
       "Ekonomi                    150\n",
       "Pertahanan dan Keamanan     96\n",
       "Ideologi                    53\n",
       "Sosial Budaya               23\n",
       "Demografi                   23\n",
       "Geografi                     7\n",
       "Sumber Daya Alam             6\n",
       "Name: count, dtype: int64"
      ]
     },
     "execution_count": 103,
     "metadata": {},
     "output_type": "execute_result"
    }
   ],
   "source": [
    "result['Kelas'].value_counts()"
   ]
  }
 ],
 "metadata": {
  "kernelspec": {
   "display_name": "SatriaData24",
   "language": "python",
   "name": "python3"
  },
  "language_info": {
   "codemirror_mode": {
    "name": "ipython",
    "version": 3
   },
   "file_extension": ".py",
   "mimetype": "text/x-python",
   "name": "python",
   "nbconvert_exporter": "python",
   "pygments_lexer": "ipython3",
   "version": "3.9.19"
  }
 },
 "nbformat": 4,
 "nbformat_minor": 2
}
