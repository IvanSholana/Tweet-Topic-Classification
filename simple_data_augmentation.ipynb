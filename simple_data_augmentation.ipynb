{
 "cells": [
  {
   "cell_type": "markdown",
   "metadata": {},
   "source": [
    "## AUGMENTATION FOR SIMPLE TRAINING"
   ]
  },
  {
   "cell_type": "code",
   "execution_count": 7,
   "metadata": {},
   "outputs": [
    {
     "name": "stderr",
     "output_type": "stream",
     "text": [
      "[nltk_data] Downloading package wordnet to\n",
      "[nltk_data]     C:\\Users\\Asus\\AppData\\Roaming\\nltk_data...\n",
      "[nltk_data]   Package wordnet is already up-to-date!\n",
      "[nltk_data] Downloading package omw-1.4 to\n",
      "[nltk_data]     C:\\Users\\Asus\\AppData\\Roaming\\nltk_data...\n",
      "[nltk_data]   Package omw-1.4 is already up-to-date!\n"
     ]
    },
    {
     "data": {
      "text/plain": [
       "True"
      ]
     },
     "execution_count": 7,
     "metadata": {},
     "output_type": "execute_result"
    }
   ],
   "source": [
    "import random\n",
    "from nltk.corpus import wordnet\n",
    "import pandas as pd\n",
    "\n",
    "# Ensure we have the necessary NLTK data\n",
    "import nltk\n",
    "nltk.download('wordnet')\n",
    "nltk.download('omw-1.4')"
   ]
  },
  {
   "cell_type": "code",
   "execution_count": 16,
   "metadata": {},
   "outputs": [],
   "source": [
    "import pandas as pd\n",
    "import random\n",
    "from nltk.corpus import wordnet\n",
    "\n",
    "def synonym_replacement(sentence, n):\n",
    "    words = sentence.split()\n",
    "    new_words = words.copy()\n",
    "    random_word_list = list(set([word for word in words if wordnet.synsets(word)]))\n",
    "    random.shuffle(random_word_list)\n",
    "    \n",
    "    num_replaced = 0\n",
    "    for random_word in random_word_list:\n",
    "        synonyms = wordnet.synsets(random_word)\n",
    "        if len(synonyms) >= 1:\n",
    "            synonym = synonyms[0].lemmas()[0].name()\n",
    "            new_words = [synonym if word == random_word else word for word in new_words]\n",
    "            num_replaced += 1\n",
    "        if num_replaced >= n: \n",
    "            break\n",
    "\n",
    "    sentence = ' '.join(new_words)\n",
    "    return sentence\n",
    "\n",
    "def random_insertion(sentence, n):\n",
    "    words = sentence.split()\n",
    "    for _ in range(n):\n",
    "        add_word = random.choice(words)\n",
    "        synonyms = wordnet.synsets(add_word)\n",
    "        if synonyms:\n",
    "            synonym = synonyms[0].lemmas()[0].name()\n",
    "            random_idx = random.randint(0, len(words))\n",
    "            words.insert(random_idx, synonym)\n",
    "    return ' '.join(words)\n",
    "\n",
    "def random_swap(sentence, n):\n",
    "    words = sentence.split()\n",
    "    if len(words) < 2:\n",
    "        return sentence\n",
    "\n",
    "    for _ in range(n):\n",
    "        idx1, idx2 = random.sample(range(len(words)), 2)\n",
    "        words[idx1], words[idx2] = words[idx2], words[idx1]\n",
    "    return ' '.join(words)\n",
    "\n",
    "def random_deletion(sentence, p):\n",
    "    words = sentence.split()\n",
    "    if len(words) == 1:\n",
    "        return sentence\n",
    "\n",
    "    new_words = []\n",
    "    for word in words:\n",
    "        if random.uniform(0, 1) > p:\n",
    "            new_words.append(word)\n",
    "    if len(new_words) == 0:\n",
    "        return random.choice(words)\n",
    "    else:\n",
    "        return ' '.join(new_words)\n",
    "\n",
    "# Assume 'data' is already loaded as a DataFrame\n",
    "data = pd.read_csv('./dataset/processed dataset/TRAINING_INDOBERT.csv')\n",
    "\n",
    "augmented_data = []\n",
    "\n",
    "for index, row in data.iterrows():\n",
    "    original_sentence = row['preprocessed_formal']\n",
    "    label = row['label']\n",
    "    \n",
    "    augmented_data.append([original_sentence, label])\n",
    "    \n",
    "    if label == \"Politik\":\n",
    "        continue\n",
    "    \n",
    "    # Create 3 augmented versions of each sentence\n",
    "    for _ in range(3):\n",
    "        aug_sent = synonym_replacement(original_sentence, n=1)\n",
    "        augmented_data.append([aug_sent, label])\n",
    "        \n",
    "        aug_sent = random_insertion(original_sentence, n=1)\n",
    "        augmented_data.append([aug_sent, label])\n",
    "        \n",
    "        aug_sent = random_swap(original_sentence, n=1)\n",
    "        augmented_data.append([aug_sent, label])\n",
    "        \n",
    "        aug_sent = random_deletion(original_sentence, p=0.1)\n",
    "        augmented_data.append([aug_sent, label])\n",
    "\n",
    "# Convert to DataFrame\n",
    "augmented_df = pd.DataFrame(augmented_data, columns=['preprocessed_formal', 'label'])\n",
    "\n",
    "\n",
    "augmented_df.drop_duplicates(inplace=True)\n",
    "# Save the augmented data to a CSV file\n",
    "augmented_df.to_csv('augmented_data.csv', index=False)\n"
   ]
  },
  {
   "cell_type": "code",
   "execution_count": 17,
   "metadata": {},
   "outputs": [
    {
     "data": {
      "text/plain": [
       "label\n",
       "Sosial Budaya              3442\n",
       "Politik                    2893\n",
       "Ideologi                   2561\n",
       "Ekonomi                    2513\n",
       "Pertahanan dan Keamanan    2495\n",
       "Sumber Daya Alam           1211\n",
       "Demografi                   494\n",
       "Geografi                    158\n",
       "Name: count, dtype: int64"
      ]
     },
     "execution_count": 17,
     "metadata": {},
     "output_type": "execute_result"
    }
   ],
   "source": [
    "augmented_df['label'].value_counts()"
   ]
  }
 ],
 "metadata": {
  "kernelspec": {
   "display_name": "SatriaData24",
   "language": "python",
   "name": "python3"
  },
  "language_info": {
   "codemirror_mode": {
    "name": "ipython",
    "version": 3
   },
   "file_extension": ".py",
   "mimetype": "text/x-python",
   "name": "python",
   "nbconvert_exporter": "python",
   "pygments_lexer": "ipython3",
   "version": "3.9.19"
  }
 },
 "nbformat": 4,
 "nbformat_minor": 2
}
